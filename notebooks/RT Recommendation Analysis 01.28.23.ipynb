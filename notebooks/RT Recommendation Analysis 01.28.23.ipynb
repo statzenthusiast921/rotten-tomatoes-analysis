{
 "cells": [
  {
   "cell_type": "code",
   "execution_count": 1,
   "id": "3561c82f-7aa2-4537-a658-aae3e71e55e0",
   "metadata": {},
   "outputs": [
    {
     "name": "stdout",
     "output_type": "stream",
     "text": [
      "(17712, 22)\n"
     ]
    }
   ],
   "source": [
    "#Import libraries\n",
    "import pandas as pd\n",
    "import numpy as np\n",
    "import matplotlib.pyplot as plt\n",
    "\n",
    "#Read in the data\n",
    "df=pd.read_csv(\"https://raw.githubusercontent.com/statzenthusiast921/rotten-tomatoes-analysis/main/data/rotten_tomatoes_movies.csv\")\n",
    "print(df.shape)"
   ]
  },
  {
   "cell_type": "code",
   "execution_count": 2,
   "id": "f98dd14a-1f2b-4b6d-ab76-c9e75d26460a",
   "metadata": {},
   "outputs": [],
   "source": [
    "del df['rotten_tomatoes_link'], df['tomatometer_top_critics_count'], df['tomatometer_fresh_critics_count'], df['tomatometer_rotten_critics_count']"
   ]
  },
  {
   "cell_type": "code",
   "execution_count": 3,
   "id": "088a62ba-7460-498e-b219-cfd5fcd70dae",
   "metadata": {},
   "outputs": [],
   "source": [
    "#Create new features\n",
    "df[['og_year','og_month','og_day']] = df['original_release_date'].str.split('-',expand=True)\n",
    "df[['str_year','str_month','str_day']] = df['streaming_release_date'].str.split('-',expand=True)\n",
    "df['num_actors'] = df['actors'].str.count(',')+1\n",
    "df['num_actors_group'] = pd.cut(df['num_actors'],\n",
    "                      bins=[0, 5, 10, 25, 100, float('Inf')],\n",
    "                      labels=['0-10', '10-25', '25-50','50-100','100+'])"
   ]
  },
  {
   "cell_type": "code",
   "execution_count": 4,
   "id": "9835c05c-36fe-466c-8bd5-a7ff980bb07a",
   "metadata": {},
   "outputs": [
    {
     "data": {
      "text/plain": [
       "(16305, 26)"
      ]
     },
     "execution_count": 4,
     "metadata": {},
     "output_type": "execute_result"
    }
   ],
   "source": [
    "df = df[(df['og_year'].notna()) & (df['str_year'].notna())]\n",
    "df.shape"
   ]
  },
  {
   "cell_type": "code",
   "execution_count": 5,
   "id": "1c88045e-d09a-4007-9243-c3304d4c5f86",
   "metadata": {},
   "outputs": [],
   "source": [
    "#Convert time features to integers\n",
    "df['og_year'] = df['og_year'].astype(int)\n",
    "df['str_year'] = df['str_year'].astype(int)\n",
    "\n",
    "df['og_month'] = df['og_month'].astype(int)\n",
    "df['str_month'] = df['str_month'].astype(int)\n",
    "\n",
    "df['og_day'] = df['og_day'].astype(int)\n",
    "df['str_day'] = df['str_day'].astype(int)"
   ]
  },
  {
   "cell_type": "code",
   "execution_count": 6,
   "id": "19d5c8d0-a16b-43b5-8dbb-4f0314d313e3",
   "metadata": {},
   "outputs": [],
   "source": [
    "from nltk.tokenize import RegexpTokenizer\n",
    "#!pip install contractions\n",
    "import contractions\n",
    "import re\n",
    "\n",
    "def punct(text):\n",
    "    token=RegexpTokenizer(r'\\w+')#regex\n",
    "    text = token.tokenize(text)\n",
    "    text= \" \".join(text)\n",
    "    return text \n",
    "\n",
    "def remove_special_characters(text):\n",
    "    # define the pattern to keep\n",
    "    pat = r'[^a-zA-z0-9.,!?/:;\\\"\\'\\s]' \n",
    "    return re.sub(pat, '', text)\n",
    "\n",
    "def remove_digits(text):\n",
    "    pattern = r'[^a-zA-z.,!?/:;\\\"\\'\\s]' \n",
    "    return re.sub(pattern, '', text)\n",
    "\n",
    "def lemmatize(text):\n",
    "    lemmed = contractions.fix(str(text))\n",
    "    return lemmed\n"
   ]
  },
  {
   "cell_type": "code",
   "execution_count": 7,
   "id": "d6c26997-d4dc-416a-ac27-6d92f30fef4e",
   "metadata": {},
   "outputs": [],
   "source": [
    "#Apply standardizing functions to body of email column\n",
    "from nltk.corpus import stopwords\n",
    "\n",
    "stop = stopwords.words('english')\n",
    "\n",
    "#0.) Convert everything to string\n",
    "df['cleaned_movie_info'] = df['movie_info'].astype(str)\n",
    "df['cleaned_critics_consensus'] = df['critics_consensus'].astype(str)\n",
    "\n",
    "#1.) Lowercase\n",
    "df.loc[:,'cleaned_movie_info'] = df['cleaned_movie_info'].str.lower()\n",
    "df.loc[:,'cleaned_critics_consensus'] = df['cleaned_critics_consensus'].str.lower()\n",
    "\n",
    "#2.) Remove punctuation\n",
    "df.loc[:,'cleaned_movie_info'] = df['cleaned_movie_info'].apply(func = punct)\n",
    "df.loc[:,'cleaned_critics_consensus'] = df['cleaned_critics_consensus'].apply(func = punct)\n",
    "\n",
    "#3.) Remove non alpha-numeric characters\n",
    "df.loc[:,'cleaned_movie_info'] = df['cleaned_movie_info'].apply(func = remove_special_characters)\n",
    "df.loc[:,'cleaned_critics_consensus'] = df['cleaned_critics_consensus'].apply(func = remove_special_characters)\n",
    "\n",
    "#4.) Remove digits\n",
    "df.loc[:,'cleaned_movie_info'] = df['cleaned_movie_info'].apply(func = remove_digits)\n",
    "df.loc[:,'cleaned_critics_consensus'] = df['cleaned_critics_consensus'].apply(func = remove_digits)\n",
    "\n",
    "#5.) Lemmatize words\n",
    "df.loc[:,'cleaned_movie_info'] = df['cleaned_movie_info'].apply(func = lemmatize)\n",
    "df.loc[:,'cleaned_critics_consensus'] = df['cleaned_critics_consensus'].apply(func = lemmatize)\n",
    "\n",
    "#6. Remove stop words\n",
    "df.loc[:,'cleaned_movie_info'] = df['cleaned_movie_info'].apply(lambda x: ' '.join([word for word in x.split() if word not in (stop)]))\n",
    "df.loc[:,'cleaned_critics_consensus'] = df['cleaned_critics_consensus'].apply(lambda x: ' '.join([word for word in x.split() if word not in (stop)]))\n",
    "\n"
   ]
  },
  {
   "cell_type": "code",
   "execution_count": 8,
   "id": "ea40bd7c-ff46-4db4-8e61-77f7518fbaf8",
   "metadata": {},
   "outputs": [
    {
     "name": "stderr",
     "output_type": "stream",
     "text": [
      "[nltk_data] Downloading package vader_lexicon to\n",
      "[nltk_data]     /Users/jonzimmerman/nltk_data...\n",
      "[nltk_data]   Package vader_lexicon is already up-to-date!\n"
     ]
    }
   ],
   "source": [
    "#Set up VADER score to get labels for doing classification later\n",
    "import nltk\n",
    "nltk.download('vader_lexicon')\n",
    "from nltk.sentiment.vader import SentimentIntensityAnalyzer\n",
    "sia = SentimentIntensityAnalyzer()\n",
    "df['synposis_scores_unpack'] = df['cleaned_movie_info'].map(lambda x: sia.polarity_scores(x))\n",
    "df['critic_scores_unpack'] = df['cleaned_critics_consensus'].map(lambda x: sia.polarity_scores(x))\n"
   ]
  },
  {
   "cell_type": "code",
   "execution_count": 9,
   "id": "68e1c8ce-956d-4989-a0ae-d4bd95ff8f71",
   "metadata": {},
   "outputs": [
    {
     "data": {
      "text/html": [
       "<div>\n",
       "<style scoped>\n",
       "    .dataframe tbody tr th:only-of-type {\n",
       "        vertical-align: middle;\n",
       "    }\n",
       "\n",
       "    .dataframe tbody tr th {\n",
       "        vertical-align: top;\n",
       "    }\n",
       "\n",
       "    .dataframe thead th {\n",
       "        text-align: right;\n",
       "    }\n",
       "</style>\n",
       "<table border=\"1\" class=\"dataframe\">\n",
       "  <thead>\n",
       "    <tr style=\"text-align: right;\">\n",
       "      <th></th>\n",
       "      <th>movie_title</th>\n",
       "      <th>movie_info</th>\n",
       "      <th>critics_consensus</th>\n",
       "      <th>content_rating</th>\n",
       "      <th>genres</th>\n",
       "      <th>directors</th>\n",
       "      <th>authors</th>\n",
       "      <th>actors</th>\n",
       "      <th>original_release_date</th>\n",
       "      <th>streaming_release_date</th>\n",
       "      <th>...</th>\n",
       "      <th>num_actors</th>\n",
       "      <th>num_actors_group</th>\n",
       "      <th>cleaned_movie_info</th>\n",
       "      <th>cleaned_critics_consensus</th>\n",
       "      <th>synposis_scores_unpack</th>\n",
       "      <th>critic_scores_unpack</th>\n",
       "      <th>synopsis_sentiment_score</th>\n",
       "      <th>synopsis_sentiment_class</th>\n",
       "      <th>critic_sentiment_score</th>\n",
       "      <th>critic_sentiment_class</th>\n",
       "    </tr>\n",
       "  </thead>\n",
       "  <tbody>\n",
       "    <tr>\n",
       "      <th>0</th>\n",
       "      <td>Percy Jackson &amp; the Olympians: The Lightning T...</td>\n",
       "      <td>Always trouble-prone, the life of teenager Per...</td>\n",
       "      <td>Though it may seem like just another Harry Pot...</td>\n",
       "      <td>PG</td>\n",
       "      <td>Action &amp; Adventure, Comedy, Drama, Science Fic...</td>\n",
       "      <td>Chris Columbus</td>\n",
       "      <td>Craig Titley, Chris Columbus, Rick Riordan</td>\n",
       "      <td>Logan Lerman, Brandon T. Jackson, Alexandra Da...</td>\n",
       "      <td>2010-02-12</td>\n",
       "      <td>2015-11-25</td>\n",
       "      <td>...</td>\n",
       "      <td>87.0</td>\n",
       "      <td>50-100</td>\n",
       "      <td>always trouble prone life teenager percy jacks...</td>\n",
       "      <td>though may seem like another harry potter knoc...</td>\n",
       "      <td>{'neg': 0.215, 'neu': 0.55, 'pos': 0.235, 'com...</td>\n",
       "      <td>{'neg': 0.0, 'neu': 0.507, 'pos': 0.493, 'comp...</td>\n",
       "      <td>-0.2023</td>\n",
       "      <td>0</td>\n",
       "      <td>0.9274</td>\n",
       "      <td>1</td>\n",
       "    </tr>\n",
       "    <tr>\n",
       "      <th>1</th>\n",
       "      <td>Please Give</td>\n",
       "      <td>Kate (Catherine Keener) and her husband Alex (...</td>\n",
       "      <td>Nicole Holofcener's newest might seem slight i...</td>\n",
       "      <td>R</td>\n",
       "      <td>Comedy</td>\n",
       "      <td>Nicole Holofcener</td>\n",
       "      <td>Nicole Holofcener</td>\n",
       "      <td>Catherine Keener, Amanda Peet, Oliver Platt, R...</td>\n",
       "      <td>2010-04-30</td>\n",
       "      <td>2012-09-04</td>\n",
       "      <td>...</td>\n",
       "      <td>8.0</td>\n",
       "      <td>10-25</td>\n",
       "      <td>kate catherine keener husband alex oliver plat...</td>\n",
       "      <td>nicole holofcener newest might seem slight pla...</td>\n",
       "      <td>{'neg': 0.089, 'neu': 0.789, 'pos': 0.121, 'co...</td>\n",
       "      <td>{'neg': 0.0, 'neu': 0.857, 'pos': 0.143, 'comp...</td>\n",
       "      <td>0.2023</td>\n",
       "      <td>1</td>\n",
       "      <td>0.3612</td>\n",
       "      <td>1</td>\n",
       "    </tr>\n",
       "  </tbody>\n",
       "</table>\n",
       "<p>2 rows × 34 columns</p>\n",
       "</div>"
      ],
      "text/plain": [
       "                                         movie_title  \\\n",
       "0  Percy Jackson & the Olympians: The Lightning T...   \n",
       "1                                        Please Give   \n",
       "\n",
       "                                          movie_info  \\\n",
       "0  Always trouble-prone, the life of teenager Per...   \n",
       "1  Kate (Catherine Keener) and her husband Alex (...   \n",
       "\n",
       "                                   critics_consensus content_rating  \\\n",
       "0  Though it may seem like just another Harry Pot...             PG   \n",
       "1  Nicole Holofcener's newest might seem slight i...              R   \n",
       "\n",
       "                                              genres          directors  \\\n",
       "0  Action & Adventure, Comedy, Drama, Science Fic...     Chris Columbus   \n",
       "1                                             Comedy  Nicole Holofcener   \n",
       "\n",
       "                                      authors  \\\n",
       "0  Craig Titley, Chris Columbus, Rick Riordan   \n",
       "1                           Nicole Holofcener   \n",
       "\n",
       "                                              actors original_release_date  \\\n",
       "0  Logan Lerman, Brandon T. Jackson, Alexandra Da...            2010-02-12   \n",
       "1  Catherine Keener, Amanda Peet, Oliver Platt, R...            2010-04-30   \n",
       "\n",
       "  streaming_release_date  ...  num_actors num_actors_group  \\\n",
       "0             2015-11-25  ...        87.0           50-100   \n",
       "1             2012-09-04  ...         8.0            10-25   \n",
       "\n",
       "                                  cleaned_movie_info  \\\n",
       "0  always trouble prone life teenager percy jacks...   \n",
       "1  kate catherine keener husband alex oliver plat...   \n",
       "\n",
       "                           cleaned_critics_consensus  \\\n",
       "0  though may seem like another harry potter knoc...   \n",
       "1  nicole holofcener newest might seem slight pla...   \n",
       "\n",
       "                              synposis_scores_unpack  \\\n",
       "0  {'neg': 0.215, 'neu': 0.55, 'pos': 0.235, 'com...   \n",
       "1  {'neg': 0.089, 'neu': 0.789, 'pos': 0.121, 'co...   \n",
       "\n",
       "                                critic_scores_unpack  \\\n",
       "0  {'neg': 0.0, 'neu': 0.507, 'pos': 0.493, 'comp...   \n",
       "1  {'neg': 0.0, 'neu': 0.857, 'pos': 0.143, 'comp...   \n",
       "\n",
       "   synopsis_sentiment_score  synopsis_sentiment_class  critic_sentiment_score  \\\n",
       "0                   -0.2023                         0                  0.9274   \n",
       "1                    0.2023                         1                  0.3612   \n",
       "\n",
       "   critic_sentiment_class  \n",
       "0                       1  \n",
       "1                       1  \n",
       "\n",
       "[2 rows x 34 columns]"
      ]
     },
     "execution_count": 9,
     "metadata": {},
     "output_type": "execute_result"
    }
   ],
   "source": [
    "df['synopsis_sentiment_score']  = df['synposis_scores_unpack'].apply(lambda score_dict: score_dict['compound'])\n",
    "df['synopsis_sentiment_class'] = df['synopsis_sentiment_score'].apply(lambda x: 1 if x >=0 else 0)\n",
    "df['critic_sentiment_score']  = df['critic_scores_unpack'].apply(lambda score_dict: score_dict['compound'])\n",
    "df['critic_sentiment_class'] = df['critic_sentiment_score'].apply(lambda x: 1 if x >=0 else 0)\n",
    "df.head(2)"
   ]
  },
  {
   "cell_type": "markdown",
   "id": "018be74e-af04-4b48-a3e8-87a261462f98",
   "metadata": {},
   "source": [
    "## Set up the cluster analysis"
   ]
  },
  {
   "cell_type": "code",
   "execution_count": 11,
   "id": "5789964c-38d9-4340-b90e-39f33d762c50",
   "metadata": {},
   "outputs": [
    {
     "name": "stdout",
     "output_type": "stream",
     "text": [
      "Collecting kneed\n",
      "  Downloading kneed-0.8.2-py3-none-any.whl (10 kB)\n",
      "Requirement already satisfied: scipy>=1.0.0 in /Users/jonzimmerman/anaconda3/lib/python3.9/site-packages (from kneed) (1.10.0)\n",
      "Requirement already satisfied: numpy>=1.14.2 in /Users/jonzimmerman/anaconda3/lib/python3.9/site-packages (from kneed) (1.24.1)\n",
      "Installing collected packages: kneed\n",
      "Successfully installed kneed-0.8.2\n"
     ]
    }
   ],
   "source": [
    "#Import libraries\n",
    "import numpy as np\n",
    "import pandas as pd\n",
    "import matplotlib.pyplot as plt\n",
    "from sklearn.cluster import KMeans\n",
    "import plotly.express as px\n",
    "from sklearn.impute import KNNImputer\n",
    "import warnings\n",
    "#!pip install kneed\n",
    "from kneed import KneeLocator\n",
    "from sklearn.preprocessing import StandardScaler\n",
    "from sklearn.decomposition import PCA\n",
    "from sklearn.pipeline import Pipeline\n",
    "from sklearn.preprocessing import LabelEncoder, MinMaxScaler"
   ]
  },
  {
   "cell_type": "code",
   "execution_count": 12,
   "id": "c1956a9f-075a-4de5-ae12-fba00ed1347b",
   "metadata": {},
   "outputs": [
    {
     "data": {
      "text/plain": [
       "Index(['movie_title', 'movie_info', 'critics_consensus', 'content_rating',\n",
       "       'genres', 'directors', 'authors', 'actors', 'original_release_date',\n",
       "       'streaming_release_date', 'runtime', 'production_company',\n",
       "       'tomatometer_status', 'tomatometer_rating', 'tomatometer_count',\n",
       "       'audience_status', 'audience_rating', 'audience_count', 'og_year',\n",
       "       'og_month', 'og_day', 'str_year', 'str_month', 'str_day', 'num_actors',\n",
       "       'num_actors_group', 'cleaned_movie_info', 'cleaned_critics_consensus',\n",
       "       'synposis_scores_unpack', 'critic_scores_unpack',\n",
       "       'synopsis_sentiment_score', 'synopsis_sentiment_class',\n",
       "       'critic_sentiment_score', 'critic_sentiment_class'],\n",
       "      dtype='object')"
      ]
     },
     "execution_count": 12,
     "metadata": {},
     "output_type": "execute_result"
    }
   ],
   "source": [
    "df.columns"
   ]
  },
  {
   "cell_type": "code",
   "execution_count": 15,
   "id": "b2728846-74c1-4971-85a6-7bfb05d9f96a",
   "metadata": {},
   "outputs": [
    {
     "data": {
      "text/plain": [
       "(16305, 34)"
      ]
     },
     "execution_count": 15,
     "metadata": {},
     "output_type": "execute_result"
    }
   ],
   "source": [
    "df.shape"
   ]
  },
  {
   "cell_type": "code",
   "execution_count": 16,
   "id": "d6d1ac7e-9f72-4264-bbad-15929df63278",
   "metadata": {},
   "outputs": [
    {
     "data": {
      "text/html": [
       "<div>\n",
       "<style scoped>\n",
       "    .dataframe tbody tr th:only-of-type {\n",
       "        vertical-align: middle;\n",
       "    }\n",
       "\n",
       "    .dataframe tbody tr th {\n",
       "        vertical-align: top;\n",
       "    }\n",
       "\n",
       "    .dataframe thead th {\n",
       "        text-align: right;\n",
       "    }\n",
       "</style>\n",
       "<table border=\"1\" class=\"dataframe\">\n",
       "  <thead>\n",
       "    <tr style=\"text-align: right;\">\n",
       "      <th></th>\n",
       "      <th>tomatometer_rating</th>\n",
       "      <th>audience_rating</th>\n",
       "      <th>og_year</th>\n",
       "      <th>synopsis_sentiment_score</th>\n",
       "      <th>critic_sentiment_score</th>\n",
       "    </tr>\n",
       "  </thead>\n",
       "  <tbody>\n",
       "    <tr>\n",
       "      <th>count</th>\n",
       "      <td>16165.000000</td>\n",
       "      <td>16165.000000</td>\n",
       "      <td>16165.000000</td>\n",
       "      <td>16165.000000</td>\n",
       "      <td>16165.000000</td>\n",
       "    </tr>\n",
       "    <tr>\n",
       "      <th>mean</th>\n",
       "      <td>60.370863</td>\n",
       "      <td>60.680297</td>\n",
       "      <td>1999.422889</td>\n",
       "      <td>-0.077870</td>\n",
       "      <td>0.154739</td>\n",
       "    </tr>\n",
       "    <tr>\n",
       "      <th>std</th>\n",
       "      <td>28.377065</td>\n",
       "      <td>20.437533</td>\n",
       "      <td>19.694225</td>\n",
       "      <td>0.636252</td>\n",
       "      <td>0.407120</td>\n",
       "    </tr>\n",
       "    <tr>\n",
       "      <th>min</th>\n",
       "      <td>0.000000</td>\n",
       "      <td>0.000000</td>\n",
       "      <td>1914.000000</td>\n",
       "      <td>-0.992600</td>\n",
       "      <td>-0.976400</td>\n",
       "    </tr>\n",
       "    <tr>\n",
       "      <th>25%</th>\n",
       "      <td>38.000000</td>\n",
       "      <td>45.000000</td>\n",
       "      <td>1993.000000</td>\n",
       "      <td>-0.690800</td>\n",
       "      <td>0.000000</td>\n",
       "    </tr>\n",
       "    <tr>\n",
       "      <th>50%</th>\n",
       "      <td>66.000000</td>\n",
       "      <td>63.000000</td>\n",
       "      <td>2006.000000</td>\n",
       "      <td>-0.077200</td>\n",
       "      <td>0.000000</td>\n",
       "    </tr>\n",
       "    <tr>\n",
       "      <th>75%</th>\n",
       "      <td>85.000000</td>\n",
       "      <td>78.000000</td>\n",
       "      <td>2013.000000</td>\n",
       "      <td>0.526700</td>\n",
       "      <td>0.487700</td>\n",
       "    </tr>\n",
       "    <tr>\n",
       "      <th>max</th>\n",
       "      <td>100.000000</td>\n",
       "      <td>100.000000</td>\n",
       "      <td>2020.000000</td>\n",
       "      <td>0.990700</td>\n",
       "      <td>0.981900</td>\n",
       "    </tr>\n",
       "  </tbody>\n",
       "</table>\n",
       "</div>"
      ],
      "text/plain": [
       "       tomatometer_rating  audience_rating       og_year  \\\n",
       "count        16165.000000     16165.000000  16165.000000   \n",
       "mean            60.370863        60.680297   1999.422889   \n",
       "std             28.377065        20.437533     19.694225   \n",
       "min              0.000000         0.000000   1914.000000   \n",
       "25%             38.000000        45.000000   1993.000000   \n",
       "50%             66.000000        63.000000   2006.000000   \n",
       "75%             85.000000        78.000000   2013.000000   \n",
       "max            100.000000       100.000000   2020.000000   \n",
       "\n",
       "       synopsis_sentiment_score  critic_sentiment_score  \n",
       "count              16165.000000            16165.000000  \n",
       "mean                  -0.077870                0.154739  \n",
       "std                    0.636252                0.407120  \n",
       "min                   -0.992600               -0.976400  \n",
       "25%                   -0.690800                0.000000  \n",
       "50%                   -0.077200                0.000000  \n",
       "75%                    0.526700                0.487700  \n",
       "max                    0.990700                0.981900  "
      ]
     },
     "execution_count": 16,
     "metadata": {},
     "output_type": "execute_result"
    }
   ],
   "source": [
    "#Step 1: Prepare data\n",
    "X = df[['tomatometer_rating','audience_rating','og_year','synopsis_sentiment_score','critic_sentiment_score']]\n",
    "X = X.dropna()\n",
    "X.describe()"
   ]
  },
  {
   "cell_type": "code",
   "execution_count": 18,
   "id": "3e27bf41-1b0b-4e3d-b85b-de7f2e035b1d",
   "metadata": {},
   "outputs": [],
   "source": [
    "#Step 2: Standardizing the data\n",
    "scaler = StandardScaler()\n",
    "data_scaled = scaler.fit_transform(X)"
   ]
  },
  {
   "cell_type": "code",
   "execution_count": 19,
   "id": "0203fb91-26f9-4a69-9ffe-8b32f02dc46a",
   "metadata": {},
   "outputs": [],
   "source": [
    "#Step 3: Defining the kmeans function with initialization as k-means++\n",
    "kmeans = KMeans(n_clusters=2, init='k-means++')"
   ]
  },
  {
   "cell_type": "code",
   "execution_count": 20,
   "id": "6a321877-50ea-4793-bd6f-01715e7d8b34",
   "metadata": {},
   "outputs": [
    {
     "name": "stderr",
     "output_type": "stream",
     "text": [
      "/Users/jonzimmerman/anaconda3/lib/python3.9/site-packages/sklearn/cluster/_kmeans.py:870: FutureWarning: The default value of `n_init` will change from 10 to 'auto' in 1.4. Set the value of `n_init` explicitly to suppress the warning\n",
      "  warnings.warn(\n"
     ]
    },
    {
     "data": {
      "text/html": [
       "<style>#sk-container-id-1 {color: black;background-color: white;}#sk-container-id-1 pre{padding: 0;}#sk-container-id-1 div.sk-toggleable {background-color: white;}#sk-container-id-1 label.sk-toggleable__label {cursor: pointer;display: block;width: 100%;margin-bottom: 0;padding: 0.3em;box-sizing: border-box;text-align: center;}#sk-container-id-1 label.sk-toggleable__label-arrow:before {content: \"▸\";float: left;margin-right: 0.25em;color: #696969;}#sk-container-id-1 label.sk-toggleable__label-arrow:hover:before {color: black;}#sk-container-id-1 div.sk-estimator:hover label.sk-toggleable__label-arrow:before {color: black;}#sk-container-id-1 div.sk-toggleable__content {max-height: 0;max-width: 0;overflow: hidden;text-align: left;background-color: #f0f8ff;}#sk-container-id-1 div.sk-toggleable__content pre {margin: 0.2em;color: black;border-radius: 0.25em;background-color: #f0f8ff;}#sk-container-id-1 input.sk-toggleable__control:checked~div.sk-toggleable__content {max-height: 200px;max-width: 100%;overflow: auto;}#sk-container-id-1 input.sk-toggleable__control:checked~label.sk-toggleable__label-arrow:before {content: \"▾\";}#sk-container-id-1 div.sk-estimator input.sk-toggleable__control:checked~label.sk-toggleable__label {background-color: #d4ebff;}#sk-container-id-1 div.sk-label input.sk-toggleable__control:checked~label.sk-toggleable__label {background-color: #d4ebff;}#sk-container-id-1 input.sk-hidden--visually {border: 0;clip: rect(1px 1px 1px 1px);clip: rect(1px, 1px, 1px, 1px);height: 1px;margin: -1px;overflow: hidden;padding: 0;position: absolute;width: 1px;}#sk-container-id-1 div.sk-estimator {font-family: monospace;background-color: #f0f8ff;border: 1px dotted black;border-radius: 0.25em;box-sizing: border-box;margin-bottom: 0.5em;}#sk-container-id-1 div.sk-estimator:hover {background-color: #d4ebff;}#sk-container-id-1 div.sk-parallel-item::after {content: \"\";width: 100%;border-bottom: 1px solid gray;flex-grow: 1;}#sk-container-id-1 div.sk-label:hover label.sk-toggleable__label {background-color: #d4ebff;}#sk-container-id-1 div.sk-serial::before {content: \"\";position: absolute;border-left: 1px solid gray;box-sizing: border-box;top: 0;bottom: 0;left: 50%;z-index: 0;}#sk-container-id-1 div.sk-serial {display: flex;flex-direction: column;align-items: center;background-color: white;padding-right: 0.2em;padding-left: 0.2em;position: relative;}#sk-container-id-1 div.sk-item {position: relative;z-index: 1;}#sk-container-id-1 div.sk-parallel {display: flex;align-items: stretch;justify-content: center;background-color: white;position: relative;}#sk-container-id-1 div.sk-item::before, #sk-container-id-1 div.sk-parallel-item::before {content: \"\";position: absolute;border-left: 1px solid gray;box-sizing: border-box;top: 0;bottom: 0;left: 50%;z-index: -1;}#sk-container-id-1 div.sk-parallel-item {display: flex;flex-direction: column;z-index: 1;position: relative;background-color: white;}#sk-container-id-1 div.sk-parallel-item:first-child::after {align-self: flex-end;width: 50%;}#sk-container-id-1 div.sk-parallel-item:last-child::after {align-self: flex-start;width: 50%;}#sk-container-id-1 div.sk-parallel-item:only-child::after {width: 0;}#sk-container-id-1 div.sk-dashed-wrapped {border: 1px dashed gray;margin: 0 0.4em 0.5em 0.4em;box-sizing: border-box;padding-bottom: 0.4em;background-color: white;}#sk-container-id-1 div.sk-label label {font-family: monospace;font-weight: bold;display: inline-block;line-height: 1.2em;}#sk-container-id-1 div.sk-label-container {text-align: center;}#sk-container-id-1 div.sk-container {/* jupyter's `normalize.less` sets `[hidden] { display: none; }` but bootstrap.min.css set `[hidden] { display: none !important; }` so we also need the `!important` here to be able to override the default hidden behavior on the sphinx rendered scikit-learn.org. See: https://github.com/scikit-learn/scikit-learn/issues/21755 */display: inline-block !important;position: relative;}#sk-container-id-1 div.sk-text-repr-fallback {display: none;}</style><div id=\"sk-container-id-1\" class=\"sk-top-container\"><div class=\"sk-text-repr-fallback\"><pre>KMeans(n_clusters=2)</pre><b>In a Jupyter environment, please rerun this cell to show the HTML representation or trust the notebook. <br />On GitHub, the HTML representation is unable to render, please try loading this page with nbviewer.org.</b></div><div class=\"sk-container\" hidden><div class=\"sk-item\"><div class=\"sk-estimator sk-toggleable\"><input class=\"sk-toggleable__control sk-hidden--visually\" id=\"sk-estimator-id-1\" type=\"checkbox\" checked><label for=\"sk-estimator-id-1\" class=\"sk-toggleable__label sk-toggleable__label-arrow\">KMeans</label><div class=\"sk-toggleable__content\"><pre>KMeans(n_clusters=2)</pre></div></div></div></div></div>"
      ],
      "text/plain": [
       "KMeans(n_clusters=2)"
      ]
     },
     "execution_count": 20,
     "metadata": {},
     "output_type": "execute_result"
    }
   ],
   "source": [
    "#Step 4: Fitting the k means algorithm on scaled data\n",
    "kmeans.fit(data_scaled)"
   ]
  },
  {
   "cell_type": "code",
   "execution_count": 22,
   "id": "423e90b3-50c8-4959-aa8b-920b6a2cfefb",
   "metadata": {},
   "outputs": [
    {
     "data": {
      "text/plain": [
       "5"
      ]
     },
     "execution_count": 22,
     "metadata": {},
     "output_type": "execute_result"
    }
   ],
   "source": [
    "#Step 5: Fitting multiple k-means algorithms and storing the values in an empty list\n",
    "warnings.filterwarnings('ignore')\n",
    "\n",
    "SSE = []\n",
    "for cluster in range(1,20):\n",
    "    kmeans = KMeans(n_clusters = cluster, init='k-means++')\n",
    "    kmeans.fit(data_scaled)\n",
    "    SSE.append(kmeans.inertia_)\n",
    "    \n",
    "#Range in KneeLocator must be the same as range above    \n",
    "kl = KneeLocator(\n",
    "    range(1, 20), SSE, curve=\"convex\", direction=\"decreasing\"\n",
    ")\n",
    "\n",
    "elbow = kl.elbow\n",
    "elbow"
   ]
  },
  {
   "cell_type": "code",
   "execution_count": 24,
   "id": "3aac624c-84eb-4ad5-ad8e-6ada4624050e",
   "metadata": {},
   "outputs": [
    {
     "data": {
      "image/png": "[encoded data removed]",
      "text/plain": [
       "<Figure size 1200x600 with 1 Axes>"
      ]
     },
     "metadata": {},
     "output_type": "display_data"
    }
   ],
   "source": [
    "#Step 6: Converting the results into a dataframe and plotting them\n",
    "frame = pd.DataFrame({'Cluster':range(1,20), 'SSE':SSE})\n",
    "plt.figure(figsize=(12,6))\n",
    "plt.plot(frame['Cluster'], frame['SSE'], marker='o')\n",
    "plt.axvline(x=elbow,ls=':',color='red')\n",
    "plt.xlabel('Number of clusters')\n",
    "plt.ylabel('Inertia');"
   ]
  },
  {
   "cell_type": "code",
   "execution_count": 26,
   "id": "c42d995b-359d-4f1e-98f3-c7771cbd6d24",
   "metadata": {},
   "outputs": [],
   "source": [
    "#Step 7: k means using 5 clusters and k-means++ initialization\n",
    "kmeans = KMeans(n_clusters = 5, init='k-means++')\n",
    "kmeans.fit(data_scaled)\n",
    "pred = kmeans.predict(data_scaled)"
   ]
  },
  {
   "cell_type": "code",
   "execution_count": 27,
   "id": "8ff79f50-7ae5-4109-acc1-c559edd4803c",
   "metadata": {},
   "outputs": [
    {
     "data": {
      "text/html": [
       "<div>\n",
       "<style scoped>\n",
       "    .dataframe tbody tr th:only-of-type {\n",
       "        vertical-align: middle;\n",
       "    }\n",
       "\n",
       "    .dataframe tbody tr th {\n",
       "        vertical-align: top;\n",
       "    }\n",
       "\n",
       "    .dataframe thead th {\n",
       "        text-align: right;\n",
       "    }\n",
       "</style>\n",
       "<table border=\"1\" class=\"dataframe\">\n",
       "  <thead>\n",
       "    <tr style=\"text-align: right;\">\n",
       "      <th></th>\n",
       "      <th>tomatometer_rating</th>\n",
       "      <th>audience_rating</th>\n",
       "      <th>og_year</th>\n",
       "      <th>synopsis_sentiment_score</th>\n",
       "      <th>critic_sentiment_score</th>\n",
       "      <th>cluster</th>\n",
       "    </tr>\n",
       "  </thead>\n",
       "  <tbody>\n",
       "    <tr>\n",
       "      <th>0</th>\n",
       "      <td>49.0</td>\n",
       "      <td>53.0</td>\n",
       "      <td>2010</td>\n",
       "      <td>-0.2023</td>\n",
       "      <td>0.9274</td>\n",
       "      <td>5</td>\n",
       "    </tr>\n",
       "    <tr>\n",
       "      <th>1</th>\n",
       "      <td>87.0</td>\n",
       "      <td>64.0</td>\n",
       "      <td>2010</td>\n",
       "      <td>0.2023</td>\n",
       "      <td>0.3612</td>\n",
       "      <td>5</td>\n",
       "    </tr>\n",
       "    <tr>\n",
       "      <th>2</th>\n",
       "      <td>67.0</td>\n",
       "      <td>53.0</td>\n",
       "      <td>1979</td>\n",
       "      <td>0.8442</td>\n",
       "      <td>0.6124</td>\n",
       "      <td>5</td>\n",
       "    </tr>\n",
       "  </tbody>\n",
       "</table>\n",
       "</div>"
      ],
      "text/plain": [
       "   tomatometer_rating  audience_rating  og_year  synopsis_sentiment_score  \\\n",
       "0                49.0             53.0     2010                   -0.2023   \n",
       "1                87.0             64.0     2010                    0.2023   \n",
       "2                67.0             53.0     1979                    0.8442   \n",
       "\n",
       "   critic_sentiment_score  cluster  \n",
       "0                  0.9274        5  \n",
       "1                  0.3612        5  \n",
       "2                  0.6124        5  "
      ]
     },
     "execution_count": 27,
     "metadata": {},
     "output_type": "execute_result"
    }
   ],
   "source": [
    "#Step 8: Place the clusters back in original df\n",
    "frame = pd.DataFrame(data_scaled)\n",
    "frame['cluster'] = pred\n",
    "frame['cluster'].value_counts()\n",
    "\n",
    "clusters = frame['cluster']+1\n",
    "\n",
    "X['cluster'] = clusters.values\n",
    "\n",
    "X.head(3)"
   ]
  },
  {
   "cell_type": "code",
   "execution_count": 32,
   "id": "718581a0-ee00-41fd-b4dc-ed0fb822c0ec",
   "metadata": {},
   "outputs": [
    {
     "data": {
      "image/png": "[encoded data removed]",
      "text/plain": [
       "<Figure size 640x480 with 1 Axes>"
      ]
     },
     "metadata": {},
     "output_type": "display_data"
    }
   ],
   "source": [
    "#Rating count\n",
    "bar_df = pd.DataFrame(X['cluster'].value_counts()).reset_index()\n",
    "    \n",
    "bar_df = bar_df.rename(columns={\n",
    "        bar_df.columns[0]: \"cluster\" ,\n",
    "        bar_df.columns[1]: \"count\" \n",
    "    })\n",
    "\n",
    "plt.bar(bar_df['cluster'],bar_df['count'])\n",
    "plt.title('Cluster Frequency')\n",
    "plt.xlabel('Cluster')\n",
    "plt.ylabel('Count')\n",
    "plt.show()"
   ]
  },
  {
   "cell_type": "code",
   "execution_count": null,
   "id": "a54ab06d-969c-4f7e-a841-c917c19d25e9",
   "metadata": {},
   "outputs": [],
   "source": []
  }
 ],
 "metadata": {
  "kernelspec": {
   "display_name": "Python 3 (ipykernel)",
   "language": "python",
   "name": "python3"
  },
  "language_info": {
   "codemirror_mode": {
    "name": "ipython",
    "version": 3
   },
   "file_extension": ".py",
   "mimetype": "text/x-python",
   "name": "python",
   "nbconvert_exporter": "python",
   "pygments_lexer": "ipython3",
   "version": "3.9.13"
  }
 },
 "nbformat": 4,
 "nbformat_minor": 5
}
